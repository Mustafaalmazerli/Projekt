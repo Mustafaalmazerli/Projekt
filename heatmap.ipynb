{
 "cells": [
  {
   "cell_type": "code",
   "execution_count": 1,
   "metadata": {},
   "outputs": [
    {
     "name": "stdout",
     "output_type": "stream",
     "text": [
      "    Latitude  Longitude       EventName\n",
      "0  59.376712  16.507310           Brand\n",
      "1  59.284121  15.229580  Trafikkontroll\n",
      "2  57.726385  11.945879  Trafikkontroll\n",
      "3  56.640868  12.904317  Trafikkontroll\n",
      "4  59.170904  17.640408  Trafikkontroll\n"
     ]
    },
    {
     "name": "stderr",
     "output_type": "stream",
     "text": [
      "C:\\Users\\musta\\AppData\\Local\\Temp\\ipykernel_21172\\2810312726.py:9: UserWarning: pandas only supports SQLAlchemy connectable (engine/connection) or database string URI or sqlite3 DBAPI2 connection. Other DBAPI2 objects are not tested. Please consider using SQLAlchemy.\n",
      "  df = pd.read_sql(query, conn)\n"
     ]
    }
   ],
   "source": [
    "import pyodbc\n",
    "import pandas as pd\n",
    "\n",
    "# Anslut till SQL Server\n",
    "conn = pyodbc.connect('DRIVER={SQL Server};SERVER=MUSTAF;DATABASE=CrimeNotificationSystem;Trusted_Connection=yes;')\n",
    "\n",
    "# Hämta brottshändelser från SQL Server\n",
    "query = \"SELECT Latitude, Longitude, EventName FROM CrimeEvents WHERE EventDate > '2024-10-01'\"\n",
    "df = pd.read_sql(query, conn)\n",
    "\n",
    "# Stäng anslutningen\n",
    "conn.close()\n",
    "\n",
    "# Kontrollera att data har hämtats korrekt\n",
    "print(df.head())"
   ]
  },
  {
   "cell_type": "code",
   "execution_count": 2,
   "metadata": {},
   "outputs": [],
   "source": [
    "\n",
    "\n",
    "\n",
    "import folium\n",
    "\n",
    "# Skapa en karta över Sverige\n",
    "m = folium.Map(location=[60.128161, 18.643501], zoom_start=5)\n",
    "\n",
    "# Lägg till markörer för varje brottshändelse\n",
    "for index, row in df.iterrows():\n",
    "    folium.Marker(\n",
    "        [row['Latitude'], row['Longitude']],\n",
    "        popup=row['EventName']\n",
    "    ).add_to(m)\n",
    "\n",
    "# Spara kartan till en HTML-fil\n",
    "m.save('brottskarta.html')\n"
   ]
  },
  {
   "cell_type": "code",
   "execution_count": 4,
   "metadata": {},
   "outputs": [],
   "source": [
    "from folium.plugins import HeatMap\n",
    "\n",
    "# Skapa en lista med koordinater från DataFrame\n",
    "heat_data = [[row['Latitude'], row['Longitude']] for index, row in df.iterrows()]\n",
    "\n",
    "# Skapa en heatmap på en karta\n",
    "m = folium.Map(location=[60.128161, 18.643501], zoom_start=5)\n",
    "\n",
    "# Lägg till HeatMap-lagret på kartan\n",
    "HeatMap(heat_data).add_to(m)\n",
    "\n",
    "# Spara kartan som en HTML-fil\n",
    "m.save('brott_heatmap.html')\n"
   ]
  },
  {
   "cell_type": "code",
   "execution_count": 2,
   "metadata": {},
   "outputs": [
    {
     "name": "stderr",
     "output_type": "stream",
     "text": [
      "C:\\Users\\musta\\AppData\\Local\\Temp\\ipykernel_41500\\2095597229.py:11: UserWarning: pandas only supports SQLAlchemy connectable (engine/connection) or database string URI or sqlite3 DBAPI2 connection. Other DBAPI2 objects are not tested. Please consider using SQLAlchemy.\n",
      "  df = pd.read_sql(query, conn)\n"
     ]
    }
   ],
   "source": [
    "import folium\n",
    "from folium.plugins import MarkerCluster\n",
    "import pyodbc\n",
    "import pandas as pd\n",
    "\n",
    "# Anslut till SQL Server\n",
    "conn = pyodbc.connect('DRIVER={SQL Server};SERVER=MUSTAF;DATABASE=CrimeNotificationSystem;Trusted_Connection=yes;')\n",
    "\n",
    "# Hämta brottshändelser från SQL Server\n",
    "query = \"SELECT Latitude, Longitude, EventName, Location FROM CrimeEvents WHERE EventDate > '2024-10-01'\"\n",
    "df = pd.read_sql(query, conn)\n",
    "\n",
    "# Stäng anslutningen till SQL Server\n",
    "conn.close()\n",
    "\n",
    "# Skapa en karta över Sverige\n",
    "m = folium.Map(location=[60.128161, 18.643501], zoom_start=5)\n",
    "\n",
    "# Skapa en markercluster för att gruppera markörer\n",
    "marker_cluster = MarkerCluster().add_to(m)\n",
    "\n",
    "# Skapa en dictionary för att hantera olika brottstyper\n",
    "crime_type_groups = {}\n",
    "\n",
    "# Loopa igenom DataFrame och lägg till markörer i rätt grupp baserat på brottstyp\n",
    "for index, row in df.iterrows():\n",
    "    crime_type = row['EventName']  # Brottstyp\n",
    "    city = row['Location']  # Stad\n",
    "    \n",
    "    # Om brottstypen inte redan finns i dictionaryn, skapa en ny FeatureGroup\n",
    "    if crime_type not in crime_type_groups:\n",
    "        crime_type_groups[crime_type] = folium.FeatureGroup(name=crime_type)\n",
    "    \n",
    "    # Skapa en markör för varje händelse\n",
    "    folium.Marker(\n",
    "        location=[row['Latitude'], row['Longitude']],\n",
    "        popup=f\"{row['EventName']} - {row['Location']}\",\n",
    "        tooltip=row['EventName']\n",
    "    ).add_to(crime_type_groups[crime_type])\n",
    "\n",
    "# Lägg till varje brottstyp till kartan\n",
    "for group in crime_type_groups.values():\n",
    "    group.add_to(m)\n",
    "\n",
    "# Lägg till en LayerControl för att hantera visning och dölja olika brottstyper\n",
    "folium.LayerControl().add_to(m)\n",
    "\n",
    "# Spara kartan till en HTML-fil\n",
    "m.save('brottskarta_med_filter.html')\n"
   ]
  },
  {
   "cell_type": "code",
   "execution_count": 14,
   "metadata": {},
   "outputs": [
    {
     "name": "stderr",
     "output_type": "stream",
     "text": [
      "C:\\Users\\musta\\AppData\\Local\\Temp\\ipykernel_41500\\2530573083.py:11: UserWarning: pandas only supports SQLAlchemy connectable (engine/connection) or database string URI or sqlite3 DBAPI2 connection. Other DBAPI2 objects are not tested. Please consider using SQLAlchemy.\n",
      "  df = pd.read_sql(query, conn)\n"
     ]
    }
   ],
   "source": [
    "from folium.plugins import MarkerCluster\n",
    "import folium\n",
    "import pyodbc\n",
    "import pandas as pd\n",
    "\n",
    "# Anslut till SQL Server\n",
    "conn = pyodbc.connect('DRIVER={SQL Server};SERVER=MUSTAF;DATABASE=CrimeNotificationSystem;Trusted_Connection=yes;')\n",
    "\n",
    "# Hämta brottshändelser från SQL Server\n",
    "query = \"SELECT Latitude, Longitude, EventName FROM CrimeEvents WHERE EventDate > '2024-10-01'\"\n",
    "df = pd.read_sql(query, conn)\n",
    "\n",
    "# Stäng anslutningen till SQL Server\n",
    "conn.close()\n",
    "\n",
    "# Skapa en karta över Sverige\n",
    "m = folium.Map(location=[60.128161, 18.643501], zoom_start=5)\n",
    "\n",
    "# Skapa en MarkerCluster för att hantera markörerna\n",
    "marker_cluster = MarkerCluster().add_to(m)\n",
    "\n",
    "# Lägg till markörer i klustret baserat på brottshändelser\n",
    "for index, row in df.iterrows():\n",
    "    if pd.notnull(row['Latitude']) and pd.notnull(row['Longitude']):\n",
    "        folium.Marker(\n",
    "            location=[row['Latitude'], row['Longitude']],\n",
    "            popup=f\"{row['EventName']}\",\n",
    "            tooltip=row['EventName']\n",
    "        ).add_to(marker_cluster)\n",
    "\n",
    "# Spara kartan som en HTML-fil\n",
    "m.save('brottskarta_med_markercluster.html')\n"
   ]
  },
  {
   "cell_type": "code",
   "execution_count": 16,
   "metadata": {},
   "outputs": [
    {
     "name": "stderr",
     "output_type": "stream",
     "text": [
      "C:\\Users\\musta\\AppData\\Local\\Temp\\ipykernel_41500\\1335637119.py:11: UserWarning: pandas only supports SQLAlchemy connectable (engine/connection) or database string URI or sqlite3 DBAPI2 connection. Other DBAPI2 objects are not tested. Please consider using SQLAlchemy.\n",
      "  df = pd.read_sql(query, conn)\n"
     ]
    }
   ],
   "source": [
    "import folium\n",
    "from folium.plugins import HeatMap\n",
    "import pyodbc\n",
    "import pandas as pd\n",
    "\n",
    "# Anslut till SQL Server\n",
    "conn = pyodbc.connect('DRIVER={SQL Server};SERVER=MUSTAF;DATABASE=CrimeNotificationSystem;Trusted_Connection=yes;')\n",
    "\n",
    "# Hämta brottshändelser från SQL Server\n",
    "query = \"SELECT Latitude, Longitude, EventName FROM CrimeEvents WHERE EventDate > '2024-10-01'\"\n",
    "df = pd.read_sql(query, conn)\n",
    "\n",
    "# Stäng anslutningen till SQL Server\n",
    "conn.close()\n",
    "\n",
    "# Skapa en karta över Sverige\n",
    "m = folium.Map(location=[60.128161, 18.643501], zoom_start=5)\n",
    "\n",
    "# Dela upp brottstyper i kategorier, ex: Våldsbrott, Egendomsbrott, Trafikbrott, Övriga incidenter\n",
    "violence_crimes = df[df['EventName'].isin(['Bråk', 'Misshandel', 'Rån', 'Våldtäkt', 'Mord/dråp', 'Våld/hot mot tjänsteman', 'Olaga hot', 'Skottlossning', 'Ofredande/förargelse'])]  # Våldsbrott\n",
    "property_crimes = df[df['EventName'].isin(['Stöld', 'Inbrott', 'Bedrägeri', 'Motorfordon', 'Skadegörelse', 'Åldringsbrott', 'Olaga intrång', 'Stöld/inbrott', 'Hemfridsbrott', 'Häleri'])]  # Egendomsbrott\n",
    "traffic_crimes = df[df['EventName'].isin(['Trafikbrott', 'Trafikkontroll', 'Trafikolycka', 'Trafikhinder', 'Rattfylleri', 'Olovlig körning', 'Knivlagen', 'Vapenlagen'])]  # Trafikrelaterade brott\n",
    "other_incidents = df[df['EventName'].isin(['Anträffad död', 'Arbetsplatsolycka', 'Brand', 'Djur', 'Explosion', 'Farligt föremål', 'Fjällräddning', 'Fylleri/LOB', 'Försvunnen person', 'Kontroll person/fordon', 'Larm Inbrott', 'Polisinsats/kommendering', 'Sammanfattning kväll och natt', 'Sammanfattning natt', 'Övrigt'])]  # Övriga incidenter och insatser\n",
    "\n",
    "# Skapa heatmap-data för varje kategori\n",
    "violence_heat_data = [[row['Latitude'], row['Longitude']] for index, row in violence_crimes.iterrows() if pd.notnull(row['Latitude']) and pd.notnull(row['Longitude'])]\n",
    "property_heat_data = [[row['Latitude'], row['Longitude']] for index, row in property_crimes.iterrows() if pd.notnull(row['Latitude']) and pd.notnull(row['Longitude'])]\n",
    "traffic_heat_data = [[row['Latitude'], row['Longitude']] for index, row in traffic_crimes.iterrows() if pd.notnull(row['Latitude']) and pd.notnull(row['Longitude'])]\n",
    "other_incidents_heat_data = [[row['Latitude'], row['Longitude']] for index, row in other_incidents.iterrows() if pd.notnull(row['Latitude']) and pd.notnull(row['Longitude'])]\n",
    "\n",
    "# Skapa olika FeatureGroups för olika brottstyper\n",
    "violence_heatmap = folium.FeatureGroup(name='Våldsbrott Heatmap')\n",
    "property_heatmap = folium.FeatureGroup(name='Egendomsbrott Heatmap')\n",
    "traffic_heatmap = folium.FeatureGroup(name='Trafikrelaterade brott Heatmap')\n",
    "other_incidents_heatmap = folium.FeatureGroup(name='Övriga incidenter Heatmap')\n",
    "\n",
    "# Lägg till HeatMap-lager för varje kategori\n",
    "HeatMap(violence_heat_data, name=\"Våldsbrott\", min_opacity=0.2, max_zoom=18, radius=15, blur=10, gradient={0.4: 'blue', 0.65: 'lime', 1: 'red'}).add_to(violence_heatmap)\n",
    "HeatMap(property_heat_data, name=\"Egendomsbrott\", min_opacity=0.2, max_zoom=18, radius=15, blur=10, gradient={0.4: 'green', 0.65: 'yellow', 1: 'red'}).add_to(property_heatmap)\n",
    "HeatMap(traffic_heat_data, name=\"Trafikrelaterade brott\", min_opacity=0.2, max_zoom=18, radius=15, blur=10, gradient={0.4: 'orange', 0.65: 'purple', 1: 'red'}).add_to(traffic_heatmap)\n",
    "HeatMap(other_incidents_heat_data, name=\"Övriga incidenter\", min_opacity=0.2, max_zoom=18, radius=15, blur=10, gradient={0.4: 'pink', 0.65: 'yellow', 1: 'red'}).add_to(other_incidents_heatmap)\n",
    "\n",
    "# Lägg till alla heatmaps till kartan\n",
    "violence_heatmap.add_to(m)\n",
    "property_heatmap.add_to(m)\n",
    "traffic_heatmap.add_to(m)\n",
    "other_incidents_heatmap.add_to(m)\n",
    "\n",
    "# Lägg till en LayerControl för att användaren ska kunna slå av och på olika lager\n",
    "folium.LayerControl().add_to(m)\n",
    "\n",
    "# Spara kartan som en HTML-fil\n",
    "m.save('brottskarta_färfilt.html')\n"
   ]
  }
 ],
 "metadata": {
  "kernelspec": {
   "display_name": "Python 3",
   "language": "python",
   "name": "python3"
  },
  "language_info": {
   "codemirror_mode": {
    "name": "ipython",
    "version": 3
   },
   "file_extension": ".py",
   "mimetype": "text/x-python",
   "name": "python",
   "nbconvert_exporter": "python",
   "pygments_lexer": "ipython3",
   "version": "3.12.7"
  }
 },
 "nbformat": 4,
 "nbformat_minor": 2
}
